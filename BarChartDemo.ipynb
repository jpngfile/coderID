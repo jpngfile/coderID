{
 "cells": [
  {
   "cell_type": "code",
   "execution_count": 2,
   "metadata": {},
   "outputs": [],
   "source": [
    "import numpy as np\n",
    "import matplotlib.pyplot as plt\n",
    "import pandas as pd"
   ]
  },
  {
   "cell_type": "code",
   "execution_count": 8,
   "metadata": {},
   "outputs": [],
   "source": [
    "num_groups = 5\n",
    "\n",
    "precision = [0.67, 0.9, 0.45, 0.78, 0.5]\n",
    "recall = [0.85, 0.87, 0.98, 0.66, 0.54]\n",
    "repos = [\"caffe\", \"llvm\", \"hostboost\", \"webrtc\", \"espressopp\"]"
   ]
  },
  {
   "cell_type": "code",
   "execution_count": 26,
   "metadata": {},
   "outputs": [
    {
     "name": "stdout",
     "output_type": "stream",
     "text": [
      "                Author  precision    recall  support  f1-score       AUC  \\\n",
      "0       Sergey Karayev   0.423729  0.862069       29  0.568182  0.920310   \n",
      "1         Yangqing Jia   0.400598  0.930556      288  0.560084  0.928934   \n",
      "2    Sergio Guadarrama   0.288462  0.857143       35  0.431655  0.906962   \n",
      "3               Kai Li   0.361624  0.933333      105  0.521277  0.932416   \n",
      "4              Noiredd   0.780000  1.000000       39  0.876404  0.985480   \n",
      "5               qipeng   0.465753  0.971429       35  0.629630  0.916588   \n",
      "6      Jonathan L Long   0.563380  0.972222      288  0.713376  0.947151   \n",
      "7         Cyprien Noel   0.439024  0.986301       73  0.607595  0.972591   \n",
      "8         Jeff Donahue   0.652002  0.901013     1283  0.756545  0.925545   \n",
      "9          Ronghang Hu   0.476510  0.946667       75  0.633929  0.948624   \n",
      "10          Eric Tzeng   0.384615  1.000000       20  0.555556  0.930954   \n",
      "11  Kevin James Matzen   0.921788  0.988024      334  0.953757  0.993852   \n",
      "12      Evan Shelhamer   0.353945  0.838384      198  0.497751  0.893203   \n",
      "13              Sergio   0.468927  0.932584       89  0.624060  0.938169   \n",
      "\n",
      "            %  weighted_precision  weighted_recall  \n",
      "0    1.212744            0.005139         0.010455  \n",
      "1   13.751285            0.055087         0.127963  \n",
      "2    2.137718            0.006166         0.018323  \n",
      "3    5.570401            0.020144         0.051990  \n",
      "4    1.027749            0.008016         0.010277  \n",
      "5    1.500514            0.006989         0.014576  \n",
      "6   10.215827            0.057554         0.099321  \n",
      "7    3.371017            0.014800         0.033248  \n",
      "8   36.443988            0.237616         0.328365  \n",
      "9    3.062693            0.014594         0.028993  \n",
      "10   1.068859            0.004111         0.010689  \n",
      "11   7.358684            0.067831         0.072706  \n",
      "12   9.640288            0.034121         0.080823  \n",
      "13   3.638232            0.017061         0.033930  \n",
      "weighted_precision: 0.5492291880781089\n",
      "weighted_recall: 0.9216595925254076\n"
     ]
    }
   ],
   "source": [
    "caffe_df = pd.read_csv(\"classResults/caffetest_report.csv\")\n",
    "caffe_df[\"weighted_precision\"] = caffe_df[\"precision\"]*caffe_df[\"%\"]/100\n",
    "caffe_df[\"weighted_recall\"] = caffe_df[\"recall\"]*caffe_df[\"%\"]/100\n",
    "caffe_precision = caffe_df[\"weighted_precision\"].sum()\n",
    "caffe_recall = caffe_df[\"weighted_recall\"].sum()\n",
    "print(caffe_df)\n",
    "print(\"weighted_precision: {}\".format(caffe_precision))\n",
    "print(\"weighted_recall: {}\".format(caffe_recall))"
   ]
  },
  {
   "cell_type": "code",
   "execution_count": 27,
   "metadata": {},
   "outputs": [],
   "source": [
    "def get_precision_recall(filename):\n",
    "    repo_df = pd.read_csv(filename)\n",
    "    repo_df[\"weighted_precision\"] = repo_df[\"precision\"] * repo_df[\"%\"] / 100\n",
    "    repo_df[\"weighted_recall\"] = repo_df[\"recall\"] * repo_df[\"%\"] / 100\n",
    "    repo_precision = repo_df[\"weighted_precision\"].sum()\n",
    "    repo_recall = repo_df[\"weighted_recall\"].sum()\n",
    "    \n",
    "    return repo_precision, repo_recall"
   ]
  },
  {
   "cell_type": "code",
   "execution_count": 47,
   "metadata": {},
   "outputs": [],
   "source": [
    "session_df = pd.read_csv(\"bar_graph_sessions.csv\")\n",
    "#sessions = [\"pion\", \"caffe\", \"hostboost\"]\n",
    "#report_paths = [\n",
    "#    \"classResults/caffetest_report.csv\",\n",
    "#    \"classResults/piontest_report.csv\",\n",
    "#    \"classResults/hostboot_report.csv\",\n",
    "#]\n",
    "sessions = list(session_df[\"session\"])\n",
    "report_paths = list(session_df[\"report_filepath\"])"
   ]
  },
  {
   "cell_type": "code",
   "execution_count": 48,
   "metadata": {},
   "outputs": [],
   "source": [
    "session_precisions = []\n",
    "session_recalls = []\n",
    "for path in report_paths:\n",
    "    precision, recall = get_precision_recall(path)\n",
    "    session_precisions.append(precision)\n",
    "    session_recalls.append(recall)"
   ]
  },
  {
   "cell_type": "code",
   "execution_count": 49,
   "metadata": {},
   "outputs": [
    {
     "data": {
      "image/png": "[encoded data removed]",
      "text/plain": [
       "<Figure size 432x288 with 1 Axes>"
      ]
     },
     "metadata": {
      "needs_background": "light"
     },
     "output_type": "display_data"
    }
   ],
   "source": [
    "num_groups = len(sessions)\n",
    "index = np.arange(num_groups)\n",
    "bar_width = 0.35\n",
    "# Red and blue\n",
    "colors = [\"#A02C2D\", \"#5E96AE\"]\n",
    "\n",
    "fig, ax = plt.subplots()\n",
    "precision_rects = ax.bar(\n",
    "    index, session_precisions, bar_width,\n",
    "    color=colors[0], label=\"Precision\"\n",
    ")\n",
    "recall_rects = ax.bar(\n",
    "    index + bar_width, session_recalls, bar_width,\n",
    "    color=colors[1], label=\"Recall\"\n",
    ")\n",
    "ax.set_xlabel(\"Session\")\n",
    "ax.set_ylabel(\"Precision/Recall Score\")\n",
    "ax.set_title(\"Classification Metric by Repository\")\n",
    "ax.set_xticks(index + bar_width / 2)\n",
    "ax.set_xticklabels(sessions)\n",
    "ax.legend(loc=\"lower right\")\n",
    "plt.show()"
   ]
  },
  {
   "cell_type": "code",
   "execution_count": 14,
   "metadata": {},
   "outputs": [],
   "source": [
    "session_df = pd.read_csv(\"f1_score_bar_graph_sessions.csv\")\n",
    "sessions = list(session_df[\"session\"])\n",
    "binary_paths = list(session_df[\"binary_filepath\"])\n",
    "multi_paths = list(session_df[\"multi_filepath\"])\n",
    "single_model_multi_paths = list(session_df[\"single_model_multi_filepath\"])"
   ]
  },
  {
   "cell_type": "code",
   "execution_count": 4,
   "metadata": {},
   "outputs": [
    {
     "name": "stdout",
     "output_type": "stream",
     "text": [
      "['pion', 'caffe', 'hostboost']\n",
      "['classResults/piontest_multi_report.csv', 'classResults/caffesession_multi_report.csv', 'classResults/hostboost_multi_report.csv']\n"
     ]
    }
   ],
   "source": [
    "print(sessions)\n",
    "print(multi_paths)"
   ]
  },
  {
   "cell_type": "code",
   "execution_count": 10,
   "metadata": {},
   "outputs": [],
   "source": [
    "def get_multi_weighted_f1_score(filename):\n",
    "    repo_df = pd.read_csv(filename, index_col=0)\n",
    "    return repo_df.loc['weighted avg', 'f1-score']\n",
    "\n",
    "def get_binary_weighted_f1_score(filename):\n",
    "    repo_df = pd.read_csv(filename)\n",
    "    repo_support = repo_df[\"support\"].sum()\n",
    "    \n",
    "    repo_df[\"weighted_f1_score\"] = repo_df[\"f1-score\"] * repo_df[\"support\"] / repo_support\n",
    "    repo_weighted_f1_score = repo_df[\"weighted_f1_score\"].sum()\n",
    "    \n",
    "    return repo_weighted_f1_score"
   ]
  },
  {
   "cell_type": "code",
   "execution_count": 15,
   "metadata": {},
   "outputs": [],
   "source": [
    "session_multi_f1_score = [get_multi_weighted_f1_score(report_path) for report_path in multi_paths]\n",
    "session_single_model_multi_f1_score = [\n",
    "    get_multi_weighted_f1_score(report_path) for report_path in single_model_multi_paths\n",
    "]\n",
    "session_binary_f1_score = [get_binary_weighted_f1_score(report_path) for report_path in binary_paths]"
   ]
  },
  {
   "cell_type": "code",
   "execution_count": 17,
   "metadata": {},
   "outputs": [
    {
     "data": {
      "image/png": "[encoded data removed]",
      "text/plain": [
       "<Figure size 432x288 with 1 Axes>"
      ]
     },
     "metadata": {
      "needs_background": "light"
     },
     "output_type": "display_data"
    }
   ],
   "source": [
    "num_groups = len(sessions)\n",
    "index = np.arange(num_groups)\n",
    "bar_width = 0.35\n",
    "# Orange and blue\n",
    "colors = {\n",
    "    \"orange\": \"#e07510\",\n",
    "    \"blue\": \"#82aedb\",\n",
    "}\n",
    "\n",
    "fig, ax = plt.subplots()\n",
    "multi_rects = ax.bar(\n",
    "    index, session_multi_f1_score, bar_width,\n",
    "    color=colors[\"orange\"], label=\"One-vs-all multi\"\n",
    ")\n",
    "single_model_rects = ax.bar(\n",
    "    index + bar_width, session_single_model_multi_f1_score, bar_width,\n",
    "    color=colors[\"blue\"], label=\"Single model multi\"\n",
    ")\n",
    "ax.set_xlabel(\"Session\")\n",
    "ax.set_ylabel(\"Weighted F1-Score\")\n",
    "ax.set_title(\"Multi-class Weighted F1-score by Repository\")\n",
    "ax.set_xticks(index + bar_width / 2)\n",
    "ax.set_xticklabels(sessions)\n",
    "ax.legend(loc=\"lower right\")\n",
    "plt.show()"
   ]
  },
  {
   "cell_type": "code",
   "execution_count": 21,
   "metadata": {},
   "outputs": [
    {
     "data": {
      "image/png": "[encoded data removed]",
      "text/plain": [
       "<Figure size 432x288 with 1 Axes>"
      ]
     },
     "metadata": {
      "needs_background": "light"
     },
     "output_type": "display_data"
    }
   ],
   "source": [
    "num_groups = len(sessions)\n",
    "index = np.arange(num_groups)\n",
    "bar_width = 0.35\n",
    "# Orange and blue\n",
    "colors = {\n",
    "    \"purple\": \"#784AAF\",\n",
    "}\n",
    "\n",
    "fig, ax = plt.subplots()\n",
    "binary_rects = ax.bar(\n",
    "    index, session_binary_f1_score, bar_width,\n",
    "    color=colors[\"purple\"]\n",
    ")\n",
    "ax.set_xlabel(\"Session\")\n",
    "ax.set_ylabel(\"Weighted F1-Score\")\n",
    "ax.set_title(\"Binary Weighted F1-score by Repository\")\n",
    "ax.set_xticks(index)\n",
    "ax.set_xticklabels(sessions)\n",
    "#ax.legend(loc=\"lower right\")\n",
    "plt.show()"
   ]
  }
 ],
 "metadata": {
  "kernelspec": {
   "display_name": "Python 3",
   "language": "python",
   "name": "python3"
  },
  "language_info": {
   "codemirror_mode": {
    "name": "ipython",
    "version": 3
   },
   "file_extension": ".py",
   "mimetype": "text/x-python",
   "name": "python",
   "nbconvert_exporter": "python",
   "pygments_lexer": "ipython3",
   "version": "3.5.2"
  }
 },
 "nbformat": 4,
 "nbformat_minor": 2
}
